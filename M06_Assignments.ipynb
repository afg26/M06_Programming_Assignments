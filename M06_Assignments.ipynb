{
 "cells": [
  {
   "cell_type": "code",
   "execution_count": 5,
   "id": "6c4dfc48",
   "metadata": {},
   "outputs": [
    {
     "name": "stdout",
     "output_type": "stream",
     "text": [
      "2023-07-16\n"
     ]
    }
   ],
   "source": [
    "#Ahmad Ghaznawi\n",
    "#13.1 Write the current date as a string to the text file today.txt.\n",
    "#importing the required library\n",
    "from datetime import date\n",
    "\n",
    "#creating our text document\n",
    "f = open('today.txt', 'w')\n",
    "\n",
    "#getting today's date\n",
    "current_date = date.today()\n",
    "\n",
    "#writing todays date to our created text document\n",
    "#we cant use this method also, f.write(str(current_Date))\n",
    "f.write(f\"{current_date}\")\n",
    "\n",
    "#just for checking propose we can print it, or if you don't want don't add this line \n",
    "print(current_date)\n",
    "#closing our file which is very importent\n",
    "f.close()\n"
   ]
  },
  {
   "cell_type": "code",
   "execution_count": 6,
   "id": "72cee506",
   "metadata": {},
   "outputs": [
    {
     "name": "stdout",
     "output_type": "stream",
     "text": [
      "2023-07-16\n"
     ]
    }
   ],
   "source": [
    "#13.2 Read the text file today.txt into the string today_string.\n",
    "#importing the required library\n",
    "#importing the required library\n",
    "from datetime import datetime\n",
    "\n",
    "#opening our text document\n",
    "f = open('today.txt', 'r')\n",
    "\n",
    "#reading from our text document\n",
    "today_string = f.read()\n",
    "\n",
    "\n",
    "#displaying the read text from a our text file\n",
    "print(today_string)\n",
    "\n",
    "#closing our file\n",
    "f.close()\n"
   ]
  },
  {
   "cell_type": "code",
   "execution_count": 7,
   "id": "f686c27e",
   "metadata": {},
   "outputs": [
    {
     "name": "stdout",
     "output_type": "stream",
     "text": [
      "2023-07-16\n",
      "Date as <class 'datetime.datetime'> is 2023-07-16 00:00:00\n"
     ]
    }
   ],
   "source": [
    "#13.3 Parse the date from today_string.\n",
    "#importing the required library\n",
    "from datetime import datetime\n",
    "\n",
    "#opening our text document\n",
    "f = open('today.txt', 'r')\n",
    "\n",
    "#reading from our text document\n",
    "today_string = f.read()\n",
    "\n",
    "\n",
    "#displaying the read text from a our text file\n",
    "print(today_string)\n",
    "\n",
    "#closing our file\n",
    "\n",
    "\n",
    "#choosing the format of the date.\n",
    "dateTimeObj = datetime.strptime(today_string, \"%Y-%m-%d\")\n",
    "\n",
    "#Displaying the text or the date which is taken from text file as a string and print it in a date and time format\n",
    "print(f\"Date as {type(dateTimeObj)} is {dateTimeObj}\")\n",
    "f.close()\n"
   ]
  },
  {
   "cell_type": "code",
   "execution_count": null,
   "id": "fb315259",
   "metadata": {},
   "outputs": [],
   "source": []
  }
 ],
 "metadata": {
  "kernelspec": {
   "display_name": "Python 3 (ipykernel)",
   "language": "python",
   "name": "python3"
  },
  "language_info": {
   "codemirror_mode": {
    "name": "ipython",
    "version": 3
   },
   "file_extension": ".py",
   "mimetype": "text/x-python",
   "name": "python",
   "nbconvert_exporter": "python",
   "pygments_lexer": "ipython3",
   "version": "3.9.13"
  }
 },
 "nbformat": 4,
 "nbformat_minor": 5
}
